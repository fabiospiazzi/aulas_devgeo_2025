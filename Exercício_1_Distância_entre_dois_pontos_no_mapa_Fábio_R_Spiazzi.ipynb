{
  "nbformat": 4,
  "nbformat_minor": 0,
  "metadata": {
    "colab": {
      "provenance": []
    },
    "kernelspec": {
      "name": "python3",
      "display_name": "Python 3"
    },
    "language_info": {
      "name": "python"
    }
  },
  "cells": [
    {
      "cell_type": "code",
      "source": [
        "from geopy.geocoders import Nominatim"
      ],
      "metadata": {
        "id": "1C67S3V4YUGl"
      },
      "execution_count": 1,
      "outputs": []
    },
    {
      "cell_type": "code",
      "source": [
        "geolocator = Nominatim(user_agent=\"fabiospiazazi@gmail.com\")\n",
        "A = str(input(\"Digite o Endereço A: \"))\n",
        "B = str(input(\"Digite o Endereço B: \"))\n",
        "\n",
        "#Adicionando os endereços - As vezes o servidor da erro, se demorar a digitar\n",
        "\n",
        "ponto_A = geolocator.geocode(A) #Entrada do primeiro endereço\n",
        "ponto_B = geolocator.geocode(B) #Entrada do segundo endereço\n",
        "\n",
        "#Impressão dos endereços digitados e das coordenadas encontradas\n",
        "print(\"Endereço A:\", A)\n",
        "print(\"Endereço A:\", B)\n",
        "print(\"Latitude = {}, Longitude = {}\".format(ponto_A.latitude, ponto_A.longitude))\n",
        "print(\"Latitude = {}, Longitude = {}\".format(ponto_B.latitude, ponto_B.longitude))\n",
        "\n",
        "#Armazana as coordenadas em variáveis\n",
        "lat_1 = ponto_A.latitude\n",
        "lon_1 = ponto_A.longitude\n",
        "lat_2 = ponto_B.latitude\n",
        "lon_2 = ponto_B.longitude"
      ],
      "metadata": {
        "colab": {
          "base_uri": "https://localhost:8080/"
        },
        "id": "iywUmRTlYYOC",
        "outputId": "1ed47fcc-a4cf-4583-8d6c-ac7a2cd87259"
      },
      "execution_count": 2,
      "outputs": [
        {
          "name": "stdout",
          "output_type": "stream",
          "text": [
            "Digite o Endereço A: Lages\n",
            "Digite o Endereço B: Curitiba\n"
          ]
        },
        {
          "output_type": "stream",
          "name": "stderr",
          "text": [
            "WARNING:urllib3.connectionpool:Retrying (Retry(total=1, connect=None, read=None, redirect=None, status=None)) after connection broken by 'ReadTimeoutError(\"HTTPSConnectionPool(host='nominatim.openstreetmap.org', port=443): Read timed out. (read timeout=1)\")': /search?q=Curitiba&format=json&limit=1\n"
          ]
        },
        {
          "output_type": "stream",
          "name": "stdout",
          "text": [
            "Endereço A: Lages\n",
            "Endereço A: Curitiba\n",
            "Latitude = -27.8165664, Longitude = -50.325883\n",
            "Latitude = -25.4295963, Longitude = -49.2712724\n"
          ]
        }
      ]
    },
    {
      "cell_type": "code",
      "execution_count": 3,
      "metadata": {
        "colab": {
          "base_uri": "https://localhost:8080/"
        },
        "id": "inD7L-hbXmmD",
        "outputId": "6fe03b15-94ee-411a-bd02-6c7f731879a9"
      },
      "outputs": [
        {
          "output_type": "execute_result",
          "data": {
            "text/plain": [
              "{'lat1': -27.8165664,\n",
              " 'lon1': -50.325883,\n",
              " 'lat2': -25.4295963,\n",
              " 'lon2': -49.2712724,\n",
              " 'a12': 2.5630755544860184,\n",
              " 's12': 284555.0615749179,\n",
              " 'azi1': 21.896449145016227,\n",
              " 'azi2': 21.423744190626014}"
            ]
          },
          "metadata": {},
          "execution_count": 3
        }
      ],
      "source": [
        "#Mosta dos dados da distância entre as coordenadas\n",
        "\n",
        "from geographiclib.geodesic import Geodesic\n",
        "dados = (Geodesic.WGS84.Inverse(lat_1,lon_1,lat_2,lon_2))\n",
        "dados"
      ]
    },
    {
      "cell_type": "code",
      "source": [
        "#Mostra os dados arredondados e fomatados\n",
        "distancia = round(dados[\"s12\"]/1000, 2)\n",
        "print (\"A distância Geodésica entre\", A, \"e\",B,\n",
        "       \"é de:\",distancia, \" km em linha reta\")"
      ],
      "metadata": {
        "colab": {
          "base_uri": "https://localhost:8080/"
        },
        "id": "g07RfQDwjf51",
        "outputId": "858c96bf-8ce7-47f5-8852-8ee29bab33b9"
      },
      "execution_count": 4,
      "outputs": [
        {
          "output_type": "stream",
          "name": "stdout",
          "text": [
            "A distância Geodésica entre Lages e Curitiba é de: 284.56  km em linha reta\n"
          ]
        }
      ]
    },
    {
      "cell_type": "markdown",
      "source": [
        "**Usando Folium**"
      ],
      "metadata": {
        "id": "8gljr8KGocoq"
      }
    },
    {
      "cell_type": "code",
      "source": [
        "import folium"
      ],
      "metadata": {
        "id": "5s5lWnLOohLc"
      },
      "execution_count": 5,
      "outputs": []
    },
    {
      "cell_type": "code",
      "source": [
        "#Mostra no mpa os pontos e desenha uma linha entre eles\n",
        "\n",
        "mapa = folium.Map(location=[lat_1, lon_1], zoom_start=10) # Mostra o mapa com zoom 10 na coordenada do primeiro ponto\n",
        "folium.Marker([lat_1, lon_1], popup=ponto_A.address, tooltip=\"Ponto A\").add_to(mapa)#Adiciona o ponto A no mapa\n",
        "folium.Marker([lat_2, lon_2], popup=ponto_B.address, tooltip=\"Ponto B\").add_to(mapa)#Adiciona o ponto B no mapa\n",
        "folium.PolyLine([[lat_1, lon_1], [lat_2, lon_2]], tooltip= str(distancia)+\" km\", color=\"blue\", weight=2.5, opacity=1).add_to(mapa)#Desenha a linha entre os pontos\n"
      ],
      "metadata": {
        "colab": {
          "base_uri": "https://localhost:8080/"
        },
        "id": "vrk8Tq3KrtfB",
        "outputId": "f62d5c5d-23af-4687-def9-02cff18288da"
      },
      "execution_count": 6,
      "outputs": [
        {
          "output_type": "execute_result",
          "data": {
            "text/plain": [
              "<folium.vector_layers.PolyLine at 0x787cefef5990>"
            ]
          },
          "metadata": {},
          "execution_count": 6
        }
      ]
    },
    {
      "cell_type": "code",
      "source": [
        "mapa"
      ],
      "metadata": {
        "colab": {
          "base_uri": "https://localhost:8080/",
          "height": 1000
        },
        "id": "epBIX6N4sE6i",
        "outputId": "6937978e-3d23-4a6c-c15b-0ce4fb881197"
      },
      "execution_count": 7,
      "outputs": [
        {
          "output_type": "execute_result",
          "data": {
            "text/plain": [
              "<folium.folium.Map at 0x787cefee15d0>"
            ],
            "text/html": [
              "<div style=\"width:100%;\"><div style=\"position:relative;width:100%;height:0;padding-bottom:60%;\"><span style=\"color:#565656\">Make this Notebook Trusted to load map: File -> Trust Notebook</span><iframe srcdoc=\"&lt;!DOCTYPE html&gt;\n",
              "&lt;html&gt;\n",
              "&lt;head&gt;\n",
              "    \n",
              "    &lt;meta http-equiv=&quot;content-type&quot; content=&quot;text/html; charset=UTF-8&quot; /&gt;\n",
              "    \n",
              "        &lt;script&gt;\n",
              "            L_NO_TOUCH = false;\n",
              "            L_DISABLE_3D = false;\n",
              "        &lt;/script&gt;\n",
              "    \n",
              "    &lt;style&gt;html, body {width: 100%;height: 100%;margin: 0;padding: 0;}&lt;/style&gt;\n",
              "    &lt;style&gt;#map {position:absolute;top:0;bottom:0;right:0;left:0;}&lt;/style&gt;\n",
              "    &lt;script src=&quot;https://cdn.jsdelivr.net/npm/leaflet@1.9.3/dist/leaflet.js&quot;&gt;&lt;/script&gt;\n",
              "    &lt;script src=&quot;https://code.jquery.com/jquery-3.7.1.min.js&quot;&gt;&lt;/script&gt;\n",
              "    &lt;script src=&quot;https://cdn.jsdelivr.net/npm/bootstrap@5.2.2/dist/js/bootstrap.bundle.min.js&quot;&gt;&lt;/script&gt;\n",
              "    &lt;script src=&quot;https://cdnjs.cloudflare.com/ajax/libs/Leaflet.awesome-markers/2.0.2/leaflet.awesome-markers.js&quot;&gt;&lt;/script&gt;\n",
              "    &lt;link rel=&quot;stylesheet&quot; href=&quot;https://cdn.jsdelivr.net/npm/leaflet@1.9.3/dist/leaflet.css&quot;/&gt;\n",
              "    &lt;link rel=&quot;stylesheet&quot; href=&quot;https://cdn.jsdelivr.net/npm/bootstrap@5.2.2/dist/css/bootstrap.min.css&quot;/&gt;\n",
              "    &lt;link rel=&quot;stylesheet&quot; href=&quot;https://netdna.bootstrapcdn.com/bootstrap/3.0.0/css/bootstrap-glyphicons.css&quot;/&gt;\n",
              "    &lt;link rel=&quot;stylesheet&quot; href=&quot;https://cdn.jsdelivr.net/npm/@fortawesome/fontawesome-free@6.2.0/css/all.min.css&quot;/&gt;\n",
              "    &lt;link rel=&quot;stylesheet&quot; href=&quot;https://cdnjs.cloudflare.com/ajax/libs/Leaflet.awesome-markers/2.0.2/leaflet.awesome-markers.css&quot;/&gt;\n",
              "    &lt;link rel=&quot;stylesheet&quot; href=&quot;https://cdn.jsdelivr.net/gh/python-visualization/folium/folium/templates/leaflet.awesome.rotate.min.css&quot;/&gt;\n",
              "    \n",
              "            &lt;meta name=&quot;viewport&quot; content=&quot;width=device-width,\n",
              "                initial-scale=1.0, maximum-scale=1.0, user-scalable=no&quot; /&gt;\n",
              "            &lt;style&gt;\n",
              "                #map_ee25f5a75616814772a85202bd6ca11c {\n",
              "                    position: relative;\n",
              "                    width: 100.0%;\n",
              "                    height: 100.0%;\n",
              "                    left: 0.0%;\n",
              "                    top: 0.0%;\n",
              "                }\n",
              "                .leaflet-container { font-size: 1rem; }\n",
              "            &lt;/style&gt;\n",
              "        \n",
              "&lt;/head&gt;\n",
              "&lt;body&gt;\n",
              "    \n",
              "    \n",
              "            &lt;div class=&quot;folium-map&quot; id=&quot;map_ee25f5a75616814772a85202bd6ca11c&quot; &gt;&lt;/div&gt;\n",
              "        \n",
              "&lt;/body&gt;\n",
              "&lt;script&gt;\n",
              "    \n",
              "    \n",
              "            var map_ee25f5a75616814772a85202bd6ca11c = L.map(\n",
              "                &quot;map_ee25f5a75616814772a85202bd6ca11c&quot;,\n",
              "                {\n",
              "                    center: [-27.8165664, -50.325883],\n",
              "                    crs: L.CRS.EPSG3857,\n",
              "                    ...{\n",
              "  &quot;zoom&quot;: 10,\n",
              "  &quot;zoomControl&quot;: true,\n",
              "  &quot;preferCanvas&quot;: false,\n",
              "}\n",
              "\n",
              "                }\n",
              "            );\n",
              "\n",
              "            \n",
              "\n",
              "        \n",
              "    \n",
              "            var tile_layer_a37be1514418c7924afbf9ef0002bd4c = L.tileLayer(\n",
              "                &quot;https://tile.openstreetmap.org/{z}/{x}/{y}.png&quot;,\n",
              "                {\n",
              "  &quot;minZoom&quot;: 0,\n",
              "  &quot;maxZoom&quot;: 19,\n",
              "  &quot;maxNativeZoom&quot;: 19,\n",
              "  &quot;noWrap&quot;: false,\n",
              "  &quot;attribution&quot;: &quot;\\u0026copy; \\u003ca href=\\&quot;https://www.openstreetmap.org/copyright\\&quot;\\u003eOpenStreetMap\\u003c/a\\u003e contributors&quot;,\n",
              "  &quot;subdomains&quot;: &quot;abc&quot;,\n",
              "  &quot;detectRetina&quot;: false,\n",
              "  &quot;tms&quot;: false,\n",
              "  &quot;opacity&quot;: 1,\n",
              "}\n",
              "\n",
              "            );\n",
              "        \n",
              "    \n",
              "            tile_layer_a37be1514418c7924afbf9ef0002bd4c.addTo(map_ee25f5a75616814772a85202bd6ca11c);\n",
              "        \n",
              "    \n",
              "            var marker_1458304fe83ea2a6fe4a9631b8efa784 = L.marker(\n",
              "                [-27.8165664, -50.325883],\n",
              "                {\n",
              "}\n",
              "            ).addTo(map_ee25f5a75616814772a85202bd6ca11c);\n",
              "        \n",
              "    \n",
              "        var popup_76b277de4b659a463de8cd4fd1854d66 = L.popup({\n",
              "  &quot;maxWidth&quot;: &quot;100%&quot;,\n",
              "});\n",
              "\n",
              "        \n",
              "            \n",
              "                var html_3f7fdc0ecd589065e58913d70b1f6eb3 = $(`&lt;div id=&quot;html_3f7fdc0ecd589065e58913d70b1f6eb3&quot; style=&quot;width: 100.0%; height: 100.0%;&quot;&gt;Lages, Região Geográfica Imediata de Lages, Região Geográfica Intermediária de Lages, Santa Catarina, Região Sul, Brasil&lt;/div&gt;`)[0];\n",
              "                popup_76b277de4b659a463de8cd4fd1854d66.setContent(html_3f7fdc0ecd589065e58913d70b1f6eb3);\n",
              "            \n",
              "        \n",
              "\n",
              "        marker_1458304fe83ea2a6fe4a9631b8efa784.bindPopup(popup_76b277de4b659a463de8cd4fd1854d66)\n",
              "        ;\n",
              "\n",
              "        \n",
              "    \n",
              "    \n",
              "            marker_1458304fe83ea2a6fe4a9631b8efa784.bindTooltip(\n",
              "                `&lt;div&gt;\n",
              "                     Ponto A\n",
              "                 &lt;/div&gt;`,\n",
              "                {\n",
              "  &quot;sticky&quot;: true,\n",
              "}\n",
              "            );\n",
              "        \n",
              "    \n",
              "            var marker_65774802fb815c39c07c6be722f6fb0e = L.marker(\n",
              "                [-25.4295963, -49.2712724],\n",
              "                {\n",
              "}\n",
              "            ).addTo(map_ee25f5a75616814772a85202bd6ca11c);\n",
              "        \n",
              "    \n",
              "        var popup_5439050fc166ebb14ced8f1e24e649d2 = L.popup({\n",
              "  &quot;maxWidth&quot;: &quot;100%&quot;,\n",
              "});\n",
              "\n",
              "        \n",
              "            \n",
              "                var html_4dbbf1c477c36cc875a805bb552eb291 = $(`&lt;div id=&quot;html_4dbbf1c477c36cc875a805bb552eb291&quot; style=&quot;width: 100.0%; height: 100.0%;&quot;&gt;Curitiba, Região Geográfica Imediata de Curitiba, Região Metropolitana de Curitiba, Região Geográfica Intermediária de Curitiba, Paraná, Região Sul, Brasil&lt;/div&gt;`)[0];\n",
              "                popup_5439050fc166ebb14ced8f1e24e649d2.setContent(html_4dbbf1c477c36cc875a805bb552eb291);\n",
              "            \n",
              "        \n",
              "\n",
              "        marker_65774802fb815c39c07c6be722f6fb0e.bindPopup(popup_5439050fc166ebb14ced8f1e24e649d2)\n",
              "        ;\n",
              "\n",
              "        \n",
              "    \n",
              "    \n",
              "            marker_65774802fb815c39c07c6be722f6fb0e.bindTooltip(\n",
              "                `&lt;div&gt;\n",
              "                     Ponto B\n",
              "                 &lt;/div&gt;`,\n",
              "                {\n",
              "  &quot;sticky&quot;: true,\n",
              "}\n",
              "            );\n",
              "        \n",
              "    \n",
              "            var poly_line_84076a1f3778424f511fab8238b9f353 = L.polyline(\n",
              "                [[-27.8165664, -50.325883], [-25.4295963, -49.2712724]],\n",
              "                {&quot;bubblingMouseEvents&quot;: true, &quot;color&quot;: &quot;blue&quot;, &quot;dashArray&quot;: null, &quot;dashOffset&quot;: null, &quot;fill&quot;: false, &quot;fillColor&quot;: &quot;blue&quot;, &quot;fillOpacity&quot;: 0.2, &quot;fillRule&quot;: &quot;evenodd&quot;, &quot;lineCap&quot;: &quot;round&quot;, &quot;lineJoin&quot;: &quot;round&quot;, &quot;noClip&quot;: false, &quot;opacity&quot;: 1, &quot;smoothFactor&quot;: 1.0, &quot;stroke&quot;: true, &quot;weight&quot;: 2.5}\n",
              "            ).addTo(map_ee25f5a75616814772a85202bd6ca11c);\n",
              "        \n",
              "    \n",
              "            poly_line_84076a1f3778424f511fab8238b9f353.bindTooltip(\n",
              "                `&lt;div&gt;\n",
              "                     284.56 km\n",
              "                 &lt;/div&gt;`,\n",
              "                {\n",
              "  &quot;sticky&quot;: true,\n",
              "}\n",
              "            );\n",
              "        \n",
              "&lt;/script&gt;\n",
              "&lt;/html&gt;\" style=\"position:absolute;width:100%;height:100%;left:0;top:0;border:none !important;\" allowfullscreen webkitallowfullscreen mozallowfullscreen></iframe></div></div>"
            ]
          },
          "metadata": {},
          "execution_count": 7
        }
      ]
    }
  ]
}